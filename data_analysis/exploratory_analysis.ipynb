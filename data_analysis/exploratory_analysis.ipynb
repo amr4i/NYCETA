{
 "cells": [
  {
   "cell_type": "markdown",
   "metadata": {},
   "source": [
    "### README\n",
    "\n",
    "This notebook requires `features` and `output` arrays stored as `features.npy`, `outputs.npy` in the current directory (`${PROJECT_ROOT}/data_analysis`).\n",
    "\n",
    "To obtain the above arrays,\n",
    "run `obtain_features.py` script after modifying the end of the code to store `features_` and `outputs_` arrays to disk.\n",
    "\n",
    "`features_` is not required as of now."
   ]
  },
  {
   "cell_type": "code",
   "execution_count": 1,
   "metadata": {},
   "outputs": [],
   "source": [
    "import numpy as np\n",
    "import matplotlib.pyplot as plt\n",
    "%matplotlib inline\n",
    "\n",
    "import os"
   ]
  },
  {
   "cell_type": "code",
   "execution_count": 2,
   "metadata": {},
   "outputs": [
    {
     "name": "stdout",
     "output_type": "stream",
     "text": [
      "(66034284,)\n"
     ]
    }
   ],
   "source": [
    "# Directory to save plots\n",
    "\n",
    "dir_path = \"./\"\n",
    "plot_path = os.path.join(dir_path, \"plots\")\n",
    "if not os.path.exists(plot_path):\n",
    "    os.makedirs(plot_path)\n",
    "\n",
    "# Load preprocessed data\n",
    "\n",
    "#features = np.load(os.path.join(dir_path,\"features.npy\"))\n",
    "#print(features.shape)\n",
    "outputs = np.load(os.path.join(dir_path,\"outputs.npy\"))\n",
    "print(outputs.shape)\n",
    "\n",
    "# Parameters\n",
    "\n",
    "BIN_SIZE = 100"
   ]
  },
  {
   "cell_type": "code",
   "execution_count": 3,
   "metadata": {},
   "outputs": [
    {
     "data": {
      "image/png": "[encoded data removed]",
      "text/plain": [
       "<Figure size 720x360 with 1 Axes>"
      ]
     },
     "metadata": {},
     "output_type": "display_data"
    }
   ],
   "source": [
    "# Distribution of the whole dataset\n",
    "\n",
    "fig, ax = plt.subplots(1,1,figsize=(10,5))\n",
    "\n",
    "bins = np.linspace(0,86400,int(86400/BIN_SIZE) + 1)\n",
    "n, bins, patches = ax.hist(outputs, bins=bins, density=False)\n",
    "ax.set_xlabel(\"Target value\")\n",
    "ax.set_ylabel(\"Frequency\")\n",
    "ax.set_title(f\"Histogram of target values in the whole dataset (bin={BIN_SIZE})\")\n",
    "plt.savefig(fname=os.path.join(plot_path,\"whole_data_dist.png\"))"
   ]
  },
  {
   "cell_type": "code",
   "execution_count": 4,
   "metadata": {},
   "outputs": [
    {
     "name": "stdout",
     "output_type": "stream",
     "text": [
      "864\n",
      "[ 905113 3353352 5883902 6738855 6646863 6127302 5431041 4696750 3998550\n",
      " 3376711 2842715 2380682 2001019 1681422 1414485 1191185 1003802  844591\n",
      "  710421  600547  509008  434355  371449  320333  278890  243760  213471\n",
      "  190329  168226  150211  133779  120318  107309   96067   85249   76179\n",
      "   68001   60966   53821   48421   43200   38179   33941   30348   26961\n",
      "   23938   21260   18818   16364   14790   12894   11213    9881    8617\n",
      "    7532    6718    5843    5011    4299    3872    3355    3008    2610\n",
      "    2230    1979    1762    1611    1302    1181    1053     874     796\n",
      "     683     715     583     552     454     382     400     334     323\n",
      "     292     227     214     202     197     178     168     146     112\n",
      "     133     107     104      97     103      97      85      70      88\n",
      "      85      58      74      67      53      67      54      71      41\n",
      "      52      53      36      58      55      56      49      48      47\n",
      "      47      55      46      34      27      36      33      39      28\n",
      "      24      28      24      29      30      22      21      17      14\n",
      "      23      15      18      27      20      18      20      18      23\n",
      "      17      18      34      23      29      23      23      24      24\n",
      "      27      20      20      17      18      13      24      12      20\n",
      "      19      16      23      16      14      11      21      15      15\n",
      "      16      24      15       8      15      15      17      13      19\n",
      "      11      15      21      24      25      26      26      17      18\n",
      "      20      12      14      16      20      12      12      22      13\n",
      "       8      17      18      14      20      14      13      13      20\n",
      "      17      11      25      22      20      21      21      18      25\n",
      "      19      26      22      16      23      25      23      23      17\n",
      "      19      18      20      23      19      17      25      28      16\n",
      "      23      18      16      22      24      12      15      19      16\n",
      "      24      25      23      14      13      19      22      21      12\n",
      "      20      19      19      26      19      19      21      21      18\n",
      "      17      21      13      20       9      11      20      12      16\n",
      "      23      19      11      23      21      17      18      17      15\n",
      "      16      18      15      20      14      20      16      16      17\n",
      "      15      17      17      12      21      18      13      16      14\n",
      "      21      10      13      15      25      20      14      25      11\n",
      "      10      11      15      11      11      20      15      16      19\n",
      "      12      19      10      18      13      16      12      11      20\n",
      "      22       9      21      29      29      29      21      20      19\n",
      "      25      20      21      15      21      24      16      20      21\n",
      "      23      31      18      22      18      22      25      17      21\n",
      "      22      17      22      27      20      20      18      19      24\n",
      "      14      23       8      15      20      17      24      13      23\n",
      "      17      19      16      13      18      17      11      10      10\n",
      "      13      20      14      18      12      14      13      24      15\n",
      "      12      13       8       9      18      13      19      13      13\n",
      "      17       7      12      12      11      10      13       7       9\n",
      "      13      14       9      12      11      19      16       8      12\n",
      "      11       6      19      14      13      15      10      10      12\n",
      "      11      12      14      13       7      12      10      11      13\n",
      "       9       5      10       9      23       9      11      10      13\n",
      "      20      13      14      15      17      21      17       9      11\n",
      "       7      11       9       6      11      12       6      13      14\n",
      "       9      15      15      13      13       7      12       7      12\n",
      "      10       9      12      14      18      10      16      16      10\n",
      "      16       7      14       8       9      14      11      13      18\n",
      "      14      16      18      13       6      12      14      10       6\n",
      "      14       8      14       8      13      13       8       8      10\n",
      "       9       9      13       9       8       6      17      11      13\n",
      "       8       7      10       5      17       8       6       9       9\n",
      "      16      13      10      10      14      10      11      14       7\n",
      "       7      14       9       1       8      13      20      11      16\n",
      "      13      14      13      15       8      13      11      11      15\n",
      "      16       7      13      17      13       6      10      15       9\n",
      "      12      17      13      12       7      14      16      17      16\n",
      "       5      12      15       8      15      11      13      12      17\n",
      "      15      13      15      13      13      12      13      14      14\n",
      "      12      12      11      13       9      16      17      15      12\n",
      "      12      12      17      11      16      15      10      12      11\n",
      "       9      10      23      13      14       8       6       6      13\n",
      "      10      16      11       8      14      14       9      14      10\n",
      "      10      12      20      19      18      11      12       8      10\n",
      "      10      14       6       6      11      10      10      11       7\n",
      "      11      14      12       6       7      14      11      21       7\n",
      "      13       4      11       8       8      11      11      10      16\n",
      "       6       7       8       6       4       8      10       6       9\n",
      "       6      12       4       6       7       8       6       6       4\n",
      "      10       6       3       9       2       2       4       6       6\n",
      "       9       5      12       9       7       9      11      13       8\n",
      "       7       8       8       8      11       6       8       6       7\n",
      "       7       5       4       5       6       7       9       3       4\n",
      "       9       7       9      10       5       8       4       7       7\n",
      "      13       4       7       7      14      13      11      10      14\n",
      "      14      10      15      14      11      12      15       8       5\n",
      "      12      12       6      13      13       9      14      14      11\n",
      "      13       6      11      11       9      14      11      12      11\n",
      "      13      10      20      15      24      19      19      27      25\n",
      "      26      30      27      20      20      12      15      24      15\n",
      "      15      22      19      22      21      20      19      28      18\n",
      "      27      20      29      23      24      35      46      25      32\n",
      "      28      37      38      51      66      61      68      74      49\n",
      "      69      74      71      62      65      56      84      77      63\n",
      "      86      69      63      61      93      87      89      90     107\n",
      "      91      91     121     124     132     145     149     170     155\n",
      "     198     330     597     859     996    1093    1113    1209    1189\n",
      "    1173    1237    1154    1117    1116    1108    1126    1136    1152\n",
      "    1205    1326    1376    1520    1553    1833    2044    2267    2452\n",
      "    2923    3201    3783    4486    5490    6730    8613   11631    7971]\n"
     ]
    }
   ],
   "source": [
    "# Histogram in numbers\n",
    "\n",
    "print(len(n))\n",
    "print(n.astype(int))"
   ]
  },
  {
   "cell_type": "code",
   "execution_count": 5,
   "metadata": {},
   "outputs": [
    {
     "data": {
      "image/png": "[encoded data removed]",
      "text/plain": [
       "<Figure size 720x360 with 1 Axes>"
      ]
     },
     "metadata": {},
     "output_type": "display_data"
    }
   ],
   "source": [
    "# Tail part of histogram\n",
    "\n",
    "cutoff = 6000\n",
    "\n",
    "fig, ax = plt.subplots(1,1,figsize=(10,5))\n",
    "\n",
    "tail_bins = np.linspace(cutoff,86400,int((86400-cutoff) / BIN_SIZE)+1)\n",
    "ax.hist(outputs, bins=tail_bins, density=False)\n",
    "ax.set_xlim(0,90000)\n",
    "ax.set_ylim(0,12000)\n",
    "ax.set_xlabel(\"Target value\")\n",
    "ax.set_ylabel(\"Frequency\")\n",
    "ax.set_title(f\"Histogram of target values larger than {cutoff} (bin={BIN_SIZE})\")\n",
    "plt.savefig(fname=os.path.join(plot_path,f\"tail_{cutoff}_dist.png\"))"
   ]
  },
  {
   "cell_type": "code",
   "execution_count": 6,
   "metadata": {},
   "outputs": [
    {
     "name": "stdout",
     "output_type": "stream",
     "text": [
      "971.452081860992\n",
      "660.0\n",
      "3262.2351533140936\n",
      "7495.922388489179\n"
     ]
    }
   ],
   "source": [
    "# Basic statistics\n",
    "\n",
    "mean = np.mean(outputs)\n",
    "median = np.median(outputs)\n",
    "stddev = np.std(outputs)\n",
    "\n",
    "print(mean)\n",
    "print(median)\n",
    "print(stddev)\n",
    "print(mean+2*stddev)"
   ]
  },
  {
   "cell_type": "code",
   "execution_count": 7,
   "metadata": {},
   "outputs": [
    {
     "name": "stdout",
     "output_type": "stream",
     "text": [
      "4300\n",
      "[ 905113 3353352 5883902 6738855 6646863 6127302 5431041 4696750 3998550\n",
      " 3376711 2842715 2380682 2001019 1681422 1414485 1191185 1003802  844591\n",
      "  710421  600547  509008  434355  371449  320333  278890  243760  213471\n",
      "  190329  168226  150211  133779  120318  107309   96067   85249   76179\n",
      "   68001   60966   53821   48421   43200   38179   33941]\n",
      "0.9945556462761072\n"
     ]
    },
    {
     "data": {
      "image/png": "[encoded data removed]",
      "text/plain": [
       "<Figure size 720x360 with 1 Axes>"
      ]
     },
     "metadata": {},
     "output_type": "display_data"
    }
   ],
   "source": [
    "# Cut off outliers\n",
    "\n",
    "cutoff = np.floor((mean+1*stddev + BIN_SIZE) / BIN_SIZE).astype(int) * BIN_SIZE\n",
    "print(cutoff)\n",
    "print(n.astype(int)[:int(cutoff/100)])\n",
    "\n",
    "print(np.sum(n[:int(cutoff/100)]) / len(outputs))\n",
    "\n",
    "# New distribution after outliers removed\n",
    "\n",
    "fig, ax = plt.subplots(1,1,figsize=(10,5))\n",
    "\n",
    "new_bins = np.linspace(0,cutoff,int(cutoff/100+1))\n",
    "ax.hist(outputs, bins=new_bins, density=False)\n",
    "ax.set_xlabel(\"Target value\")\n",
    "ax.set_ylabel(\"Frequency\")\n",
    "ax.set_title(f\"Histogram of target values smaller than than {cutoff} (bin={BIN_SIZE})\")\n",
    "plt.savefig(fname=os.path.join(plot_path,f\"cleaned_{cutoff}_dist.png\"))"
   ]
  },
  {
   "cell_type": "code",
   "execution_count": 8,
   "metadata": {},
   "outputs": [
    {
     "name": "stdout",
     "output_type": "stream",
     "text": [
      "['multiplier', 'cutoff_val', 'mean', 'stddev', 'count', 'count_coverage', 'sum_coverage']\n",
      "[[      -1.        86400.          971.4521     3262.2352 66034284.            1.            1.    ]\n",
      " [       0.25       1800.          692.3788      404.7286 60526920.            0.9166        0.6533]\n",
      " [       0.5        2700.          775.8801      522.3131 64202988.            0.9723        0.7765]\n",
      " [       1.         4300.          831.7866      638.0315 65675125.            0.9946        0.8516]\n",
      " [       2.         7500.          847.7827      688.3971 65926884.            0.9984        0.8713]]\n"
     ]
    }
   ],
   "source": [
    "# Collect statistics for different cutoff multipliers\n",
    "# (-1 as multiplier is used to indicate the whole dataset)\n",
    "\n",
    "BIN_SIZE = 100\n",
    "\n",
    "OUTPUTS_SUM = np.sum(outputs)\n",
    "OUTPUTS_LEN = len(outputs)\n",
    "\n",
    "mul_grid = [-1,0.25,0.5,1,2]\n",
    "column_names = [\"multiplier\",\"cutoff_val\",\"mean\",\"stddev\",\"count\",\"count_coverage\",\"sum_coverage\"]\n",
    "results_tbl = np.zeros([len(mul_grid), len(column_names)])\n",
    "\n",
    "results_tbl[0] = [mul_grid[0],86400,mean,stddev,len(outputs),1,1]\n",
    "for idx, multiplier in enumerate(mul_grid[1:]):\n",
    "    cutoff = np.floor((mean+multiplier*stddev + BIN_SIZE) / BIN_SIZE).astype(int) * BIN_SIZE\n",
    "    \n",
    "    cutoff_outputs = outputs[outputs <= cutoff]\n",
    "    cutoff_mean = np.mean(cutoff_outputs)\n",
    "    cutoff_stddev = np.std(cutoff_outputs)\n",
    "    cutoff_count = len(cutoff_outputs)\n",
    "    cnt_cvg = cutoff_count / OUTPUTS_LEN\n",
    "    sum_cvg = cutoff_mean * (cutoff_count / OUTPUTS_SUM)\n",
    "    \n",
    "    results_tbl[idx+1] = [multiplier, cutoff, cutoff_mean, cutoff_stddev, cutoff_count, cnt_cvg, sum_cvg]\n",
    "\n",
    "np.set_printoptions(linewidth=130, precision=4, suppress=True)\n",
    "\n",
    "print(column_names)\n",
    "print(results_tbl)\n",
    "\n",
    "np.savetxt(fname=os.path.join(dir_path, \"multiplier_tbl.csv\"), X=results_tbl,\n",
    "           delimiter=\",\", fmt=\"%.4f\", header=\",\".join(column_names))"
   ]
  }
 ],
 "metadata": {
  "kernelspec": {
   "display_name": "Python 3",
   "language": "python",
   "name": "python3"
  },
  "language_info": {
   "codemirror_mode": {
    "name": "ipython",
    "version": 3
   },
   "file_extension": ".py",
   "mimetype": "text/x-python",
   "name": "python",
   "nbconvert_exporter": "python",
   "pygments_lexer": "ipython3",
   "version": "3.6.6"
  }
 },
 "nbformat": 4,
 "nbformat_minor": 2
}
